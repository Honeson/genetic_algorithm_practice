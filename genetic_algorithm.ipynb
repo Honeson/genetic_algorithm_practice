{
 "cells": [
  {
   "cell_type": "code",
   "execution_count": 20,
   "metadata": {},
   "outputs": [],
   "source": [
    "import numpy as np\n"
   ]
  },
  {
   "cell_type": "code",
   "execution_count": 27,
   "metadata": {},
   "outputs": [],
   "source": [
    "import ga"
   ]
  },
  {
   "cell_type": "code",
   "execution_count": 21,
   "metadata": {},
   "outputs": [],
   "source": [
    "# The equation I want to implement using genetic algorithm\n",
    "# Y = w1x1 + w2x2 + w3x3 + w4x4 + w5x5 + w6x6\n",
    "\n",
    "# from the equation, 6 inputs (x1 to x6), 6 weights (w1 to w6)\n",
    "\n",
    "equation_inputs = [8,-1,6.7,10,-6,-2.1]"
   ]
  },
  {
   "cell_type": "code",
   "execution_count": 22,
   "metadata": {},
   "outputs": [],
   "source": [
    "# Number of weights to optimize is 6\n",
    "num_weights = 6"
   ]
  },
  {
   "cell_type": "code",
   "execution_count": 23,
   "metadata": {},
   "outputs": [],
   "source": [
    "# To determine the population size, we find the number of chromozones (individuals or solution) first\n",
    "sol_per_pop = 8\n"
   ]
  },
  {
   "cell_type": "code",
   "execution_count": 24,
   "metadata": {},
   "outputs": [],
   "source": [
    "# Each population will have sol_per_pop chromosomes and num_weights number of weights per chromosome\n",
    "pop_size = (sol_per_pop, num_weights)"
   ]
  },
  {
   "cell_type": "code",
   "execution_count": 25,
   "metadata": {},
   "outputs": [],
   "source": [
    "# Defining the initial population\n",
    "new_pop = np.random.uniform(low=-4.0, high=4.0, size=pop_size)"
   ]
  },
  {
   "cell_type": "code",
   "execution_count": 26,
   "metadata": {},
   "outputs": [
    {
     "data": {
      "text/plain": [
       "array([[-2.45652603,  3.29604857,  0.73132508, -1.57562012, -1.39032804,\n",
       "        -1.82072797],\n",
       "       [ 1.79399097, -0.95077563,  2.45181927,  0.3079981 , -3.3269522 ,\n",
       "         0.73557844],\n",
       "       [-2.98523921,  2.65607052, -2.11009289, -2.6194843 ,  0.07064079,\n",
       "        -0.49222351],\n",
       "       [ 3.2388145 ,  0.28018512, -1.08219749, -3.95694213,  2.70987788,\n",
       "        -1.25407519],\n",
       "       [ 0.0211209 , -0.98375243, -0.6650934 , -0.13712156,  0.27269635,\n",
       "        -2.8060222 ],\n",
       "       [-3.28376405, -1.8829552 ,  1.38700343,  3.45699163, -0.34393904,\n",
       "        -2.8666912 ],\n",
       "       [-3.26650126, -3.25095824, -2.09252583,  2.85496694,  3.84440908,\n",
       "         1.51105659],\n",
       "       [-3.93561103,  1.70092026,  0.5004965 , -2.26918458, -1.90984105,\n",
       "         3.87657502]])"
      ]
     },
     "execution_count": 26,
     "metadata": {},
     "output_type": "execute_result"
    }
   ],
   "source": [
    "new_pop"
   ]
  },
  {
   "cell_type": "code",
   "execution_count": 28,
   "metadata": {},
   "outputs": [],
   "source": [
    "# Now, let's select the mating parent from the current pop based on fitness value.\n",
    "\n",
    "num_generations = 5\n",
    "\n",
    "num_parents_mating = 4\n",
    "for generation in range(num_generations):\n",
    "     # Measuring the fitness of each chromosome in the population.\n",
    "     fitness = ga.cal_pop_fitness(equation_inputs, new_pop)\n",
    "    # Selecting the best parents in the population for mating.\n",
    "     parents = ga.select_mating_pool(new_pop, fitness, \n",
    "                                       num_parents_mating)\n",
    " \n",
    "     # Generating next generation using crossover.\n",
    "     offspring_crossover = ga.crossover(parents,\n",
    "                                        offspring_size=(pop_size[0]-parents.shape[0], num_weights))\n",
    " \n",
    "     # Adding some variations to the offsrping using mutation.\n",
    "     offspring_mutation = ga.mutation(offspring_crossover)\n",
    "# Creating the new population based on the parents and offspring.\n",
    "     new_pop[0:parents.shape[0], :] = parents\n",
    "     new_pop[parents.shape[0]:, :] = offspring_mutation"
   ]
  },
  {
   "cell_type": "code",
   "execution_count": 29,
   "metadata": {},
   "outputs": [
    {
     "data": {
      "text/plain": [
       "array([[ 1.79399097, -0.95077563,  2.45181927,  3.45699163, -0.34393904,\n",
       "        -3.94960347],\n",
       "       [ 1.79399097, -0.95077563,  2.45181927,  3.45699163, -0.34393904,\n",
       "        -3.70557161],\n",
       "       [ 1.79399097, -0.95077563,  2.45181927,  3.45699163, -0.34393904,\n",
       "        -3.69518609],\n",
       "       [ 1.79399097, -0.95077563,  2.45181927,  3.45699163, -0.34393904,\n",
       "        -3.3462774 ],\n",
       "       [ 1.79399097, -0.95077563,  2.45181927,  3.45699163, -0.34393904,\n",
       "        -3.02609207],\n",
       "       [ 1.79399097, -0.95077563,  2.45181927,  3.45699163, -0.34393904,\n",
       "        -3.45458621],\n",
       "       [ 1.79399097, -0.95077563,  2.45181927,  3.45699163, -0.34393904,\n",
       "        -2.43779127],\n",
       "       [ 1.79399097, -0.95077563,  2.45181927,  3.45699163, -0.34393904,\n",
       "        -4.30273543]])"
      ]
     },
     "execution_count": 29,
     "metadata": {},
     "output_type": "execute_result"
    }
   ],
   "source": [
    "new_pop"
   ]
  },
  {
   "cell_type": "code",
   "execution_count": 31,
   "metadata": {},
   "outputs": [
    {
     "name": "stdout",
     "output_type": "stream",
     "text": [
      "[[-3.66982509 -0.41879217 -2.97454137  2.10686756  3.8637201  -3.42849107]\n",
      " [-1.90079855 -2.33472622  2.55590421  3.33466641  0.31285582 -0.96473913]\n",
      " [ 0.83297622  3.26311759 -2.47661712  1.95286466  3.22676169 -3.98868032]\n",
      " [-1.76970463 -0.15561997  3.59331716  3.16167198  3.08399544 -3.98993815]\n",
      " [-2.32012423 -3.40543998 -1.86103792  3.41694362 -1.29752512  1.74120144]\n",
      " [ 0.68524186 -3.4790665  -0.78315379 -2.6455239  -0.14174482  1.82586863]\n",
      " [ 0.1432976   3.96937835  0.09088083 -1.28174592  2.15271483 -3.34852179]\n",
      " [-3.44802014 -2.40420648  3.4926301   0.44830169  1.23148044  3.20927986]]\n",
      "Generation :  0\n",
      "Best result :  27.19289272858535\n",
      "Generation :  1\n",
      "Best result :  32.4478981475944\n",
      "Generation :  2\n",
      "Best result :  34.311498328151764\n",
      "Generation :  3\n",
      "Best result :  37.1935724135806\n",
      "Generation :  4\n",
      "Best result :  38.33521943400681\n",
      "Best solution :  [[[ 0.68524186 -3.4790665  -0.78315379  3.41694362 -1.29752512\n",
      "   -0.00418358]]]\n",
      "Best solution fitness :  [38.33521943]\n"
     ]
    }
   ],
   "source": [
    "\n",
    "import numpy\n",
    "import ga\n",
    "\n",
    "\"\"\"\n",
    "The y=target is to maximize this equation ASAP:\n",
    "    y = w1x1+w2x2+w3x3+w4x4+w5x5+6wx6\n",
    "    where (x1,x2,x3,x4,x5,x6)=(4,-2,3.5,5,-11,-4.7)\n",
    "    What are the best values for the 6 weights w1 to w6?\n",
    "    We are going to use the genetic algorithm for the best possible values after a number of generations.\n",
    "\"\"\"\n",
    "\n",
    "# Inputs of the equation.\n",
    "equation_inputs = [4,-2,3.5,5,-11,-4.7]\n",
    "\n",
    "# Number of the weights we are looking to optimize.\n",
    "num_weights = 6\n",
    "\n",
    "\"\"\"\n",
    "Genetic algorithm parameters:\n",
    "    Mating pool size\n",
    "    Population size\n",
    "\"\"\"\n",
    "sol_per_pop = 8\n",
    "num_parents_mating = 4\n",
    "\n",
    "# Defining the population size.\n",
    "pop_size = (sol_per_pop,num_weights) # The population will have sol_per_pop chromosome where each chromosome has num_weights genes.\n",
    "#Creating the initial population.\n",
    "new_pop = numpy.random.uniform(low=-4.0, high=4.0, size=pop_size)\n",
    "print(new_pop)\n",
    "\n",
    "num_generations = 5\n",
    "for generation in range(num_generations):\n",
    "    print(\"Generation : \", generation)\n",
    "    # Measing the fitness of each chromosome in the population.\n",
    "    fitness = ga.cal_pop_fitness(equation_inputs, new_pop)\n",
    "\n",
    "    # Selecting the best parents in the population for mating.\n",
    "    parents = ga.select_mating_pool(new_pop, fitness, \n",
    "                                      num_parents_mating)\n",
    "\n",
    "    # Generating next generation using crossover.\n",
    "    offspring_crossover = ga.crossover(parents,\n",
    "                                       offspring_size=(pop_size[0]-parents.shape[0], num_weights))\n",
    "\n",
    "    # Adding some variations to the offsrping using mutation.\n",
    "    offspring_mutation = ga.mutation(offspring_crossover)\n",
    "\n",
    "    # Creating the new population based on the parents and offspring.\n",
    "    new_pop[0:parents.shape[0], :] = parents\n",
    "    new_pop[parents.shape[0]:, :] = offspring_mutation\n",
    "\n",
    "    # The best result in the current iteration.\n",
    "    print(\"Best result : \", numpy.max(numpy.sum(new_pop*equation_inputs, axis=1)))\n",
    "\n",
    "# Getting the best solution after iterating finishing all generations.\n",
    "#At first, the fitness is calculated for each solution in the final generation.\n",
    "fitness = ga.cal_pop_fitness(equation_inputs, new_pop)\n",
    "# Then return the index of that solution corresponding to the best fitness.\n",
    "best_match_idx = numpy.where(fitness == numpy.max(fitness))\n",
    "\n",
    "print(\"Best solution : \", new_pop[best_match_idx, :])\n",
    "print(\"Best solution fitness : \", fitness[best_match_idx])\n"
   ]
  }
 ],
 "metadata": {
  "interpreter": {
   "hash": "b3ba2566441a7c06988d0923437866b63cedc61552a5af99d1f4fb67d367b25f"
  },
  "kernelspec": {
   "display_name": "Python 3.8.8 ('base')",
   "language": "python",
   "name": "python3"
  },
  "language_info": {
   "codemirror_mode": {
    "name": "ipython",
    "version": 3
   },
   "file_extension": ".py",
   "mimetype": "text/x-python",
   "name": "python",
   "nbconvert_exporter": "python",
   "pygments_lexer": "ipython3",
   "version": "3.8.8"
  },
  "orig_nbformat": 4
 },
 "nbformat": 4,
 "nbformat_minor": 2
}
